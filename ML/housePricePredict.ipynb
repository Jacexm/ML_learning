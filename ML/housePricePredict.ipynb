{
 "cells": [
  {
   "cell_type": "markdown",
   "metadata": {},
   "source": [
    "机器学习实战"
   ]
  },
  {
   "cell_type": "markdown",
   "metadata": {},
   "source": [
    " 房价预测"
   ]
  },
  {
   "cell_type": "code",
   "execution_count": 1,
   "metadata": {},
   "outputs": [
    {
     "name": "stdout",
     "output_type": "stream",
     "text": [
      "# packages in environment at /Users/ice-tea/anaconda3/envs/mathmodel:\n",
      "#\n",
      "# Name                    Version                   Build  Channel\n",
      "_py-xgboost-mutex         2.0                       cpu_0    defaults\n",
      "appnope                   0.1.3              pyhd8ed1ab_0    conda-forge\n",
      "asttokens                 2.4.0              pyhd8ed1ab_0    conda-forge\n",
      "backcall                  0.2.0              pyh9f0ad1d_0    conda-forge\n",
      "backports                 1.0                pyhd8ed1ab_3    conda-forge\n",
      "backports.functools_lru_cache 1.6.5              pyhd8ed1ab_0    conda-forge\n",
      "blas                      1.0                    openblas    defaults\n",
      "bottleneck                1.3.5            py39heec5a64_0    defaults\n",
      "brotli                    1.0.9                h1a28f6b_7    defaults\n",
      "brotli-bin                1.0.9                h1a28f6b_7    defaults\n",
      "ca-certificates           2023.7.22            hf0a4a13_0    conda-forge\n",
      "comm                      0.1.4              pyhd8ed1ab_0    conda-forge\n",
      "contourpy                 1.0.5            py39h525c30c_0    defaults\n",
      "cycler                    0.11.0             pyhd3eb1b0_0    defaults\n",
      "debugpy                   1.6.7            py39h313beb8_0    defaults\n",
      "decorator                 5.1.1              pyhd8ed1ab_0    conda-forge\n",
      "et_xmlfile                1.1.0            py39hca03da5_0    defaults\n",
      "exceptiongroup            1.1.3              pyhd8ed1ab_0    conda-forge\n",
      "executing                 1.2.0              pyhd8ed1ab_0    conda-forge\n",
      "fonttools                 4.25.0             pyhd3eb1b0_0    defaults\n",
      "freetype                  2.12.1               h1192e45_0    defaults\n",
      "giflib                    5.2.1                h80987f9_3    defaults\n",
      "importlib-metadata        6.8.0              pyha770c72_0    conda-forge\n",
      "importlib_metadata        6.8.0                hd8ed1ab_0    conda-forge\n",
      "importlib_resources       5.2.0              pyhd3eb1b0_1    defaults\n",
      "ipykernel                 6.25.2             pyh1050b4e_0    conda-forge\n",
      "ipython                   8.16.1             pyh31c8845_0    conda-forge\n",
      "jedi                      0.19.1             pyhd8ed1ab_0    conda-forge\n",
      "joblib                    1.2.0            py39hca03da5_0    defaults\n",
      "jpeg                      9e                   h80987f9_1    defaults\n",
      "jupyter_client            8.3.1              pyhd8ed1ab_0    conda-forge\n",
      "jupyter_core              5.3.0            py39hca03da5_0    defaults\n",
      "kiwisolver                1.4.4            py39h313beb8_0    defaults\n",
      "lcms2                     2.12                 hba8e193_0    defaults\n",
      "lerc                      3.0                  hc377ac9_0    defaults\n",
      "libbrotlicommon           1.0.9                h1a28f6b_7    defaults\n",
      "libbrotlidec              1.0.9                h1a28f6b_7    defaults\n",
      "libbrotlienc              1.0.9                h1a28f6b_7    defaults\n",
      "libcxx                    14.0.6               h848a8c0_0    defaults\n",
      "libdeflate                1.17                 h80987f9_0    defaults\n",
      "libffi                    3.4.4                hca03da5_0    defaults\n",
      "libgfortran               5.0.0           11_3_0_hca03da5_28    defaults\n",
      "libgfortran5              11.3.0              h009349e_28    defaults\n",
      "libopenblas               0.3.21               h269037a_0    defaults\n",
      "libpng                    1.6.39               h80987f9_0    defaults\n",
      "libsodium                 1.0.18               h27ca646_1    conda-forge\n",
      "libtiff                   4.5.1                h313beb8_0    defaults\n",
      "libwebp                   1.3.2                ha3663a8_0    defaults\n",
      "libwebp-base              1.3.2                h80987f9_0    defaults\n",
      "libxgboost                1.7.3                h313beb8_0    defaults\n",
      "lightgbm                  3.3.5            py39h313beb8_0    defaults\n",
      "llvm-openmp               14.0.6               hc6e5704_0    defaults\n",
      "lz4-c                     1.9.4                h313beb8_0    defaults\n",
      "matplotlib                3.7.2            py39hca03da5_0    defaults\n",
      "matplotlib-base           3.7.2            py39h46d7db6_0    defaults\n",
      "matplotlib-inline         0.1.6              pyhd8ed1ab_0    conda-forge\n",
      "munkres                   1.1.4                      py_0    defaults\n",
      "ncurses                   6.4                  h313beb8_0    defaults\n",
      "nest-asyncio              1.5.6              pyhd8ed1ab_0    conda-forge\n",
      "numexpr                   2.8.4            py39h79ee842_1    defaults\n",
      "numpy                     1.25.2           py39h3b2db8e_0    defaults\n",
      "numpy-base                1.25.2           py39ha9811e2_0    defaults\n",
      "openpyxl                  3.0.10           py39h1a28f6b_0    defaults\n",
      "openssl                   3.1.3                h53f4e23_0    conda-forge\n",
      "packaging                 23.1             py39hca03da5_0    defaults\n",
      "pandas                    2.0.3            py39h46d7db6_0    defaults\n",
      "parso                     0.8.3              pyhd8ed1ab_0    conda-forge\n",
      "pexpect                   4.8.0              pyh1a96a4e_2    conda-forge\n",
      "pickleshare               0.7.5                   py_1003    conda-forge\n",
      "pillow                    9.4.0            py39h313beb8_1    defaults\n",
      "pip                       23.2.1           py39hca03da5_0    defaults\n",
      "platformdirs              3.11.0             pyhd8ed1ab_0    conda-forge\n",
      "prompt-toolkit            3.0.39             pyha770c72_0    conda-forge\n",
      "prompt_toolkit            3.0.39               hd8ed1ab_0    conda-forge\n",
      "psutil                    5.9.0            py39h1a28f6b_0    defaults\n",
      "ptyprocess                0.7.0              pyhd3deb0d_0    conda-forge\n",
      "pure_eval                 0.2.2              pyhd8ed1ab_0    conda-forge\n",
      "py-xgboost                1.7.3            py39hca03da5_0    defaults\n",
      "pygments                  2.16.1             pyhd8ed1ab_0    conda-forge\n",
      "pyparsing                 3.0.9            py39hca03da5_0    defaults\n",
      "python                    3.9.18               hb885b13_0    defaults\n",
      "python-dateutil           2.8.2              pyhd3eb1b0_0    defaults\n",
      "python-tzdata             2023.3             pyhd3eb1b0_0    defaults\n",
      "pytz                      2023.3.post1     py39hca03da5_0    defaults\n",
      "pyzmq                     25.1.0           py39h313beb8_0    defaults\n",
      "readline                  8.2                  h1a28f6b_0    defaults\n",
      "scikit-learn              1.3.0            py39h46d7db6_0    defaults\n",
      "scipy                     1.11.1           py39h20cbe94_0    defaults\n",
      "setuptools                68.0.0           py39hca03da5_0    defaults\n",
      "six                       1.16.0             pyhd3eb1b0_1    defaults\n",
      "sqlite                    3.41.2               h80987f9_0    defaults\n",
      "stack_data                0.6.2              pyhd8ed1ab_0    conda-forge\n",
      "threadpoolctl             2.2.0              pyh0d69192_0    defaults\n",
      "tk                        8.6.12               hb8d0fd4_0    defaults\n",
      "tornado                   6.3.2            py39h80987f9_0    defaults\n",
      "traitlets                 5.11.2             pyhd8ed1ab_0    conda-forge\n",
      "typing-extensions         4.8.0                hd8ed1ab_0    conda-forge\n",
      "typing_extensions         4.8.0              pyha770c72_0    conda-forge\n",
      "tzdata                    2023c                h04d1e81_0    defaults\n",
      "wcwidth                   0.2.8              pyhd8ed1ab_0    conda-forge\n",
      "wheel                     0.38.4           py39hca03da5_0    defaults\n",
      "xgboost                   2.0.0                    pypi_0    pypi\n",
      "xz                        5.4.2                h80987f9_0    defaults\n",
      "zeromq                    4.3.4                hbdafb3b_1    conda-forge\n",
      "zipp                      3.11.0           py39hca03da5_0    defaults\n",
      "zlib                      1.2.13               h5a0b063_0    defaults\n",
      "zstd                      1.5.5                hd90d995_0    defaults\n",
      "\n",
      "Note: you may need to restart the kernel to use updated packages.\n"
     ]
    }
   ],
   "source": [
    "conda listb"
   ]
  },
  {
   "cell_type": "code",
   "execution_count": null,
   "metadata": {},
   "outputs": [],
   "source": [
    "import os\n",
    "import tarfile\n",
    "import urllib\n",
    "\n",
    "DOWNLOAD_ROOT =\"https://raw.githubusercontent.com/ageron/handson-ml2/master/\"\n",
    "HOUSE_PATH = os.path.join('datasets','housing')\n",
    "HOUSE_URL = DOWNLOAD_ROOT + \"datasets/housing/housing.tgz\"\n",
    "\n",
    "def fetch_housing_data(housing_url=HOUSING_URL, housing_path=HOUSING_PATH):\n",
    "    if not os.path.isdir(housing_path):\n",
    "        os.makedirs(housing_path)\n",
    "    tgz_path = os.path.join(housing_path, \"housing.tgz\")\n",
    "    urllib.request.urlretrieve(housing_url, tgz_path)\n",
    "    housing_tgz = tarfile.open(tgz_path)\n",
    "    housing_tgz.extractall(path=housing_path)\n",
    "    housing_tgz.close()"
   ]
  },
  {
   "cell_type": "code",
   "execution_count": 2,
   "metadata": {},
   "outputs": [
    {
     "ename": "NameError",
     "evalue": "name 'fetch_housing_data' is not defined",
     "output_type": "error",
     "traceback": [
      "\u001b[0;31m---------------------------------------------------------------------------\u001b[0m",
      "\u001b[0;31mNameError\u001b[0m                                 Traceback (most recent call last)",
      "\u001b[1;32m/Users/ice-tea/Nutstore Files/.symlinks/坚果云/code/python/ML/housePricePredict.ipynb 单元格 5\u001b[0m line \u001b[0;36m1\n\u001b[0;32m----> <a href='vscode-notebook-cell:/Users/ice-tea/Nutstore%20Files/.symlinks/%E5%9D%9A%E6%9E%9C%E4%BA%91/code/python/ML/housePricePredict.ipynb#W6sZmlsZQ%3D%3D?line=0'>1</a>\u001b[0m fetch_housing_data()\n",
      "\u001b[0;31mNameError\u001b[0m: name 'fetch_housing_data' is not defined"
     ]
    }
   ],
   "source": [
    "fetch_housing_data()"
   ]
  }
 ],
 "metadata": {
  "kernelspec": {
   "display_name": "mathmodel",
   "language": "python",
   "name": "python3"
  },
  "language_info": {
   "codemirror_mode": {
    "name": "ipython",
    "version": 3
   },
   "file_extension": ".py",
   "mimetype": "text/x-python",
   "name": "python",
   "nbconvert_exporter": "python",
   "pygments_lexer": "ipython3",
   "version": "3.9.18"
  }
 },
 "nbformat": 4,
 "nbformat_minor": 2
}
